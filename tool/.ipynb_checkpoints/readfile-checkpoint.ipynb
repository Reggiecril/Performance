{
 "cells": [
  {
   "cell_type": "code",
   "execution_count": 1,
   "metadata": {
    "pycharm": {
     "is_executing": false
    }
   },
   "outputs": [
    {
     "name": "stdout",
     "output_type": "stream",
     "text": [
      "([['5', '8', '1.60', '50.55', '3448.53', '0.00', '0.00'], ['10', '8', '2.80', '47.42', '3448.53', '0.00', '0.00']], [[], [], [], [], [], [], [], [], [], [], [], [], [], [], [], [], [], [], [], [], [], [], [], [], [], [], [], [], [], [], [], [], [], [], [], [], [], [], [], [], []])\n"
     ]
    }
   ],
   "source": [
    "from tool.readfile import ReadFile\n",
    "r=ReadFile(False,\"../file/docker/8-20190729013052662670.txt\")\n",
    "print r.read_file()"
   ]
  },
  {
   "cell_type": "code",
   "execution_count": 1,
   "metadata": {},
   "outputs": [
    {
     "ename": "SyntaxError",
     "evalue": "invalid syntax (<ipython-input-1-5a1fc0820491>, line 1)",
     "output_type": "error",
     "traceback": [
      "\u001b[0;36m  File \u001b[0;32m\"<ipython-input-1-5a1fc0820491>\"\u001b[0;36m, line \u001b[0;32m1\u001b[0m\n\u001b[0;31m    l=re.findall(r\"/\\{[^\\}]+\\}/\",\"\u001b[2J\u001b[H{\"memory_raw\":\"5.637MiB / 1.952GiB\",\"memory_percent\":\"0.28%\",\"cpu\":\"0.00%\",\"net_I/O\":\"382kB / 35.7kB\",\"block_I/O\":\"0B / 0B\",\"pids\":\"10\"}\u001b[0m\n\u001b[0m                                                    ^\u001b[0m\n\u001b[0;31mSyntaxError\u001b[0m\u001b[0;31m:\u001b[0m invalid syntax\n"
     ]
    }
   ],
   "source": [
    "l=re.findall(r\"/\\{[^\\}]+\\}/\",\"\u001b[2J\u001b[H{\"memory_raw\":\"5.637MiB / 1.952GiB\",\"memory_percent\":\"0.28%\",\"cpu\":\"0.00%\",\"net_I/O\":\"382kB / 35.7kB\",\"block_I/O\":\"0B / 0B\",\"pids\":\"10\"}\n",
    "\")"
   ]
  },
  {
   "cell_type": "code",
   "execution_count": null,
   "metadata": {},
   "outputs": [],
   "source": []
  }
 ],
 "metadata": {
  "kernelspec": {
   "display_name": "Python 2",
   "language": "python",
   "name": "python2"
  },
  "language_info": {
   "codemirror_mode": {
    "name": "ipython",
    "version": 2
   },
   "file_extension": ".py",
   "mimetype": "text/x-python",
   "name": "python",
   "nbconvert_exporter": "python",
   "pygments_lexer": "ipython2",
   "version": "2.7.10"
  },
  "pycharm": {
   "stem_cell": {
    "cell_type": "raw",
    "metadata": {
     "collapsed": false
    },
    "source": []
   }
  }
 },
 "nbformat": 4,
 "nbformat_minor": 1
}
