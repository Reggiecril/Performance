{
 "cells": [
  {
   "cell_type": "code",
   "execution_count": 1,
   "metadata": {},
   "outputs": [
    {
     "data": {
      "text/plain": [
       "{u'ApiVersion': u'1.39',\n",
       " u'Arch': u'amd64',\n",
       " u'BuildTime': u'2019-02-10T04:13:06.000000000+00:00',\n",
       " u'Components': [{u'Details': {u'ApiVersion': u'1.39',\n",
       "    u'Arch': u'amd64',\n",
       "    u'BuildTime': u'2019-02-10T04:13:06.000000000+00:00',\n",
       "    u'Experimental': u'false',\n",
       "    u'GitCommit': u'6247962',\n",
       "    u'GoVersion': u'go1.10.6',\n",
       "    u'KernelVersion': u'4.9.125-linuxkit',\n",
       "    u'MinAPIVersion': u'1.12',\n",
       "    u'Os': u'linux'},\n",
       "   u'Name': u'Engine',\n",
       "   u'Version': u'18.09.2'}],\n",
       " u'GitCommit': u'6247962',\n",
       " u'GoVersion': u'go1.10.6',\n",
       " u'KernelVersion': u'4.9.125-linuxkit',\n",
       " u'MinAPIVersion': u'1.12',\n",
       " u'Os': u'linux',\n",
       " u'Platform': {u'Name': u'Docker Engine - Community'},\n",
       " u'Version': u'18.09.2'}"
      ]
     },
     "execution_count": 1,
     "metadata": {},
     "output_type": "execute_result"
    }
   ],
   "source": [
    "import docker\n",
    "client = docker.APIClient(base_url='unix://var/run/docker.sock',version='1.21',timeout=5)\n",
    "client.version()\n",
    "# import subprocess\n",
    "# import datetime\n",
    "# start_time=datetime.datetime.now()\n",
    "# cmd=\"docker stats --format \\\"{\\\\\\\"memory_raw\\\\\\\":\\\\\\\"{{ .MemUsage }}\\\\\\\",\\\\\\\"memory_percent\\\\\\\":\\\\\\\"{{ .MemPerc }}\\\\\\\",\\\\\\\"cpu\\\\\\\":\\\\\\\"{{ .CPUPerc }}\\\\\\\",\\\\\\\"net_I/O\\\\\\\":\\\\\\\"{{ .NetIO }}\\\\\\\",\\\\\\\"block_I/O\\\\\\\":\\\\\\\"{{ .BlockIO }}\\\\\\\",\\\\\\\"pids\\\\\\\":\\\\\\\"{{ .PIDs }}\\\\\\\"}\\\"\"\n",
    "# p=subprocess.Popen(cmd,shell=True,stdout=subprocess.PIPE, stderr=subprocess.STDOUT)\n",
    "# interval=(datetime.datetime.now()-start_time).seconds\n",
    "# count=0\n",
    "# while interval<=60:\n",
    "#         count+=1\n",
    "#         line = p.stdout.readline().strip()\n",
    "#         print count,line\n",
    "#         interval = (datetime.datetime.now() - start_time).seconds\n",
    "#\n",
    "# p.kill()"
   ]
  },
  {
   "cell_type": "code",
   "execution_count": 2,
   "metadata": {},
   "outputs": [],
   "source": [
    "C  = docker.DockerClient(base_url='unix://var/run/docker.sock',version='auto',timeout=10)\n"
   ]
  },
  {
   "cell_type": "code",
   "execution_count": null,
   "metadata": {},
   "outputs": [],
   "source": []
  }
 ],
 "metadata": {
  "kernelspec": {
   "display_name": "Python 2",
   "language": "python",
   "name": "python2"
  },
  "language_info": {
   "codemirror_mode": {
    "name": "ipython",
    "version": 2
   },
   "file_extension": ".py",
   "mimetype": "text/x-python",
   "name": "python",
   "nbconvert_exporter": "python",
   "pygments_lexer": "ipython2",
   "version": "2.7.10"
  },
  "pycharm": {
   "stem_cell": {
    "cell_type": "raw",
    "metadata": {
     "collapsed": false
    },
    "source": []
   }
  }
 },
 "nbformat": 4,
 "nbformat_minor": 1
}
